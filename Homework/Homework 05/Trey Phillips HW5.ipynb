{
 "cells": [
  {
   "cell_type": "code",
   "execution_count": null,
   "metadata": {},
   "outputs": [],
   "source": [
    "#Trey Phillips \n",
    "import numpy as np\n",
    "import matplotlib.pyplot as plt\n",
    "from mpl_toolkits.mplot3d import Axes3D"
   ]
  },
  {
   "cell_type": "code",
   "execution_count": null,
   "metadata": {},
   "outputs": [],
   "source": [
    "#Histogram\n",
    "data = np.random.randn(4000)\n",
    "plt.hist(data, bins=30, color='blue', edgecolor='black')\n",
    "plt.title(\"Histogram\")\n",
    "plt.xlabel(\"Value\")\n",
    "plt.ylabel(\"Frequency\")\n",
    "plt.show()"
   ]
  },
  {
   "cell_type": "code",
   "execution_count": null,
   "metadata": {},
   "outputs": [],
   "source": [
    "#Line Plot\n",
    "x = np.linspace(0, 10, 100)\n",
    "y = np.sin(x)\n",
    "plt.plot(x, y, label='Sine Wave', color='black')\n",
    "plt.title(\"Line Plot\")\n",
    "plt.xlabel(\"X\")\n",
    "plt.ylabel(\"Y\")\n",
    "plt.legend()\n",
    "plt.show()"
   ]
  },
  {
   "cell_type": "code",
   "execution_count": null,
   "metadata": {},
   "outputs": [],
   "source": [
    "#Scatter Plot\n",
    "x = np.random.rand(100)\n",
    "y = np.random.rand(100)\n",
    "plt.scatter(x, y, color='red', alpha=0.5)\n",
    "plt.title(\"Scatter Plot\")\n",
    "plt.xlabel(\"X\")\n",
    "plt.ylabel(\"Y\")\n",
    "plt.show()"
   ]
  },
  {
   "cell_type": "code",
   "execution_count": null,
   "metadata": {},
   "outputs": [],
   "source": [
    "#Pie Plot\n",
    "sizes = [30, 25, 25, 20]\n",
    "labels = ['A', 'B', 'C', 'D']\n",
    "plt.pie(sizes, labels=labels, autopct='%1.1f%%', startangle=140)\n",
    "plt.title(\"Pie Plot\")\n",
    "plt.show()"
   ]
  },
  {
   "cell_type": "code",
   "execution_count": null,
   "metadata": {},
   "outputs": [],
   "source": [
    "#Area Plot\n",
    "x = np.linspace(0, 10, 100)\n",
    "y = np.sin(x)\n",
    "plt.fill_between(x, y, color='blue', alpha=0.4)\n",
    "plt.plot(x, y, color='black') \n",
    "plt.title(\"Area Plot\")\n",
    "plt.xlabel(\"X\")\n",
    "plt.ylabel(\"Y\")\n",
    "plt.show()"
   ]
  },
  {
   "cell_type": "code",
   "execution_count": null,
   "metadata": {},
   "outputs": [],
   "source": [
    "#3D Bar Plot\n",
    "fig = plt.figure()\n",
    "ax = fig.add_subplot(111, projection='3d')\n",
    "\n",
    "_x = np.arange(4)\n",
    "_y = np.arange(3)\n",
    "_xx, _yy = np.meshgrid(_x, _y)\n",
    "x, y = _xx.ravel(), _yy.ravel()\n",
    "\n",
    "top = x**2 + y**2\n",
    "bottom = np.zeros_like(top)\n",
    "width = depth = 1\n",
    "\n",
    "ax.bar3d(x, y, bottom, width, depth, top, shade=True)\n",
    "ax.set_title(\"3D Bar Plot\")\n",
    "plt.show()"
   ]
  },
  {
   "cell_type": "code",
   "execution_count": null,
   "metadata": {},
   "outputs": [],
   "source": [
    "import numpy as np\n",
    "\n",
    "def na_sales_convertNA(value):\n",
    "    try:\n",
    "        return float(value)\n",
    "    except ValueError:\n",
    "        return np.nan\n",
    "\n",
    "data = np.genfromtxt(\n",
    "    r\"C:\\Users\\treyk\\Downloads\\vgsales.csv\", \n",
    "    dtype=[('Name', 'U100'), ('Year', 'i4'), ('NA_Sales', 'f4')],\n",
    "    delimiter = ',', \n",
    "    skip_header = 1, \n",
    "    usecols = (1, 3, 6), \n",
    "    converters = {2: na_sales_convertNA},\n",
    "    invalid_raise = False\n",
    ")\n",
    "\n",
    "sorted_by_name = np.sort(data, order = 'Name')\n",
    "sorted_by_year = np.sort(data, order = 'Year')\n",
    "sorted_by_na_sales = np.sort(data, order = 'NA_Sales')\n",
    "\n",
    "print(\"Sorted by Name: \") \n",
    "for entry in sorted_by_name[:10]:\n",
    "    print(entry)\n",
    "print(\"Sorted by Year: \")\n",
    "for entry in sorted_by_year[:10]:\n",
    "    print(entry)\n",
    "print(\"Sorted by NA_Sales: \") \n",
    "for entry in sorted_by_na_sales[:10]:\n",
    "    print(entry)\n"
   ]
  }
 ],
 "metadata": {
  "kernelspec": {
   "display_name": "Python 3",
   "language": "python",
   "name": "python3"
  },
  "language_info": {
   "codemirror_mode": {
    "name": "ipython",
    "version": 3
   },
   "file_extension": ".py",
   "mimetype": "text/x-python",
   "name": "python",
   "nbconvert_exporter": "python",
   "pygments_lexer": "ipython3",
   "version": "3.12.8"
  }
 },
 "nbformat": 4,
 "nbformat_minor": 2
}
