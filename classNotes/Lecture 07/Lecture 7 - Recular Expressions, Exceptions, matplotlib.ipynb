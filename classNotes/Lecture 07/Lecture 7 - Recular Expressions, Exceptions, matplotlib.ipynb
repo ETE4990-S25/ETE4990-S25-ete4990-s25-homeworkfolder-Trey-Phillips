{
 "cells": [
  {
   "cell_type": "markdown",
   "id": "30735e7a",
   "metadata": {},
   "source": [
    "# First some House Keeping"
   ]
  },
  {
   "cell_type": "markdown",
   "id": "3c6d6604",
   "metadata": {},
   "source": [
    "As a reminder this is where we will brake away from Lab vs Lecture.\n",
    "\n",
    "Lecture will begin to work on Data Analitics \n",
    "Lab will begin to work on Working in code and Applying what you know\n",
    "\n",
    "Focus on keeping your code clean and use the Markdown to communicate to me.\n"
   ]
  },
  {
   "cell_type": "markdown",
   "id": "7a813adb",
   "metadata": {},
   "source": [
    "# Exceptions\n",
    "Sometimes things happen in your code that you may want to catch and still allow your code to continue to run. An Exception is the way to do that\n",
    "\n",
    "It is important that your end user does not know that there are errors. We can User proof our programs by adding try-except. \n",
    "\n",
    "\n",
    "and before you say it... But we can use if else: \n",
    "\n",
    "Thank you chat gpt\n",
    "\n",
    "**if-else statements**:\n",
    "They are used for conditional execution based on a known condition. The code within the if block is executed if the condition is true, and the code within the else block is executed if the condition is false.\n",
    "\n",
    "**try-except blocks**:\n",
    "They are used for handling exceptions, which are runtime errors that can occur during program execution. The code within the try block is executed, and if an exception occurs, the code within the except block is executed.\n",
    "\n",
    "The choice between if-else and try-except depends on the specific situation and the desired behavior.\n",
    "\n",
    "**Usage**\n",
    "Use if-else when you want to execute different code blocks based on a known condition.\n",
    "Use try-except when you want to handle potential runtime errors gracefully and prevent the program from crashing.\n"
   ]
  },
  {
   "cell_type": "code",
   "execution_count": null,
   "id": "54ac1187",
   "metadata": {},
   "outputs": [],
   "source": [
    "0/0"
   ]
  },
  {
   "cell_type": "markdown",
   "id": "090f9b0a",
   "metadata": {},
   "source": [
    "Here we are getting the error ZeroDivision Error. This is the exception object. This object is what happens when an error happens and Python is trying to handle the code. We can modicy the program to grab these errors and deal with them.\n",
    "One way to do that is with the try-except (try-catch in other languages)\n",
    "\n"
   ]
  },
  {
   "cell_type": "markdown",
   "id": "d0f85fc7",
   "metadata": {},
   "source": [
    "## try-except"
   ]
  },
  {
   "cell_type": "code",
   "execution_count": null,
   "id": "c0a493f7",
   "metadata": {},
   "outputs": [],
   "source": [
    "try:\n",
    "    0/0\n",
    "except ZeroDivisionError:\n",
    "    print('Please stop trying to brake math?')"
   ]
  },
  {
   "cell_type": "code",
   "execution_count": null,
   "id": "984cc2b0",
   "metadata": {},
   "outputs": [],
   "source": [
    "0/0"
   ]
  },
  {
   "cell_type": "markdown",
   "id": "0b225546",
   "metadata": {},
   "source": [
    "Note: Python looks for an except block whose error matches the one that was raised and runs the code in that block.\n",
    "If that error is not found than it cant handle the except."
   ]
  },
  {
   "cell_type": "code",
   "execution_count": null,
   "id": "7c43d384",
   "metadata": {},
   "outputs": [],
   "source": [
    "try:\n",
    "    with open(\"filename\") as f:\n",
    "        f.write(\"This will never happen\")\n",
    "except ZeroDivisionError:\n",
    "    print('Ignore me please')\n",
    "except FileNotFoundError:\n",
    "    print('Ignore me')"
   ]
  },
  {
   "cell_type": "markdown",
   "id": "198e3b1b",
   "metadata": {},
   "source": [
    "## Missing exceptions\n",
    "As you can see Python can not catch the exception object because it is differnt from before."
   ]
  },
  {
   "cell_type": "code",
   "execution_count": null,
   "id": "43edabee",
   "metadata": {},
   "outputs": [],
   "source": [
    "def divide():\n",
    "    print(\"Give me two numbers, and I'll divide them.\")\n",
    "    print(\"Enter 'q' to quit.\")\n",
    "    while True:\n",
    "        first_number = input(\"\\nFirst number: \")\n",
    "        if first_number == 'q':\n",
    "            break\n",
    "        second_number = input(\"Second number: \")\n",
    "        if second_number == 'q':\n",
    "            break\n",
    "        answer = int(first_number) / int(second_number)\n",
    "        print(answer)"
   ]
  },
  {
   "cell_type": "code",
   "execution_count": null,
   "id": "318f9a2f",
   "metadata": {},
   "outputs": [],
   "source": [
    "divide()"
   ]
  },
  {
   "cell_type": "code",
   "execution_count": null,
   "id": "ac91b3ad",
   "metadata": {},
   "outputs": [],
   "source": [
    "try:\n",
    "    divide()\n",
    "except ZeroDivisionError:\n",
    "    print('Have you ever taken math!')\n",
    "    divide()"
   ]
  },
  {
   "cell_type": "code",
   "execution_count": null,
   "id": "1ba7e969",
   "metadata": {},
   "outputs": [],
   "source": [
    "def divide():\n",
    "    print(\"Give me two numbers, and I'll divide them.\")\n",
    "    print(\"Enter 'q' to quit.\")\n",
    "    while True:\n",
    "        first_number = input(\"\\nFirst number: \")\n",
    "        if first_number == 'q':\n",
    "            break\n",
    "        second_number = input(\"Second number: \") \n",
    "        \n",
    "        try:\n",
    "            if second_number == 'q':\n",
    "                break \n",
    "            answer = int(first_number) / int(second_number)\n",
    "            \n",
    "        except ZeroDivisionError:\n",
    "            print('Have you ever taken math!')\n",
    "        else:\n",
    "            print(answer)\n",
    "  \n"
   ]
  },
  {
   "cell_type": "code",
   "execution_count": null,
   "id": "3c6a9db8",
   "metadata": {},
   "outputs": [],
   "source": [
    "divide()"
   ]
  },
  {
   "cell_type": "markdown",
   "id": "df23a32b",
   "metadata": {},
   "source": [
    "## FileNotFoundError"
   ]
  },
  {
   "cell_type": "code",
   "execution_count": null,
   "id": "4eb8d3db",
   "metadata": {},
   "outputs": [],
   "source": [
    "try:\n",
    "    with open(\"filename\") as f:\n",
    "        f.write(\"This will never happen\")\n",
    "except FileNotFoundError:\n",
    "    print('No file found')\n",
    "    "
   ]
  },
  {
   "cell_type": "code",
   "execution_count": null,
   "id": "4e9a6dce",
   "metadata": {},
   "outputs": [],
   "source": [
    "try:\n",
    "    with open(\"filename\") as f:\n",
    "        f.write(\"This will never happen\")\n",
    "except FileNotFoundError:\n",
    "    with open(\"log.txt\", 'a') as f:\n",
    "        f.write(\"Error opening filename\")\n",
    "    pass"
   ]
  },
  {
   "cell_type": "markdown",
   "id": "64179de0",
   "metadata": {},
   "source": [
    "One of the bigest problems with except errors is not only knowing wich ones to use but all so wich ones to tell the user. You can create a log file to save the error found and continue to move on if needed. "
   ]
  },
  {
   "cell_type": "markdown",
   "id": "e2e0854a",
   "metadata": {},
   "source": [
    "# Doing Math in Python\n",
    "\n"
   ]
  },
  {
   "cell_type": "markdown",
   "id": "8731dad9",
   "metadata": {},
   "source": [
    "## Matplotlib"
   ]
  },
  {
   "cell_type": "markdown",
   "id": "b28cb375",
   "metadata": {},
   "source": [
    "We need to install a the matplotlib library to do that run the following command. This will install matplotlib using python on your local system."
   ]
  },
  {
   "cell_type": "code",
   "execution_count": 2,
   "id": "80c9b465",
   "metadata": {},
   "outputs": [
    {
     "name": "stdout",
     "output_type": "stream",
     "text": [
      "Collecting matplotlib\n",
      "  Downloading matplotlib-3.9.4-cp39-cp39-macosx_11_0_arm64.whl (7.8 MB)\n",
      "\u001b[2K     \u001b[90m━━━━━━━━━━━━━━━━━━━━━━━━━━━━━━━━━━━━━━━━\u001b[0m \u001b[32m7.8/7.8 MB\u001b[0m \u001b[31m1.1 MB/s\u001b[0m eta \u001b[36m0:00:00\u001b[0m00:01\u001b[0m00:01\u001b[0m0m\n",
      "\u001b[?25hRequirement already satisfied: packaging>=20.0 in /Users/Kris/.pyenv/versions/3.9.16/lib/python3.9/site-packages (from matplotlib) (24.2)\n",
      "Collecting importlib-resources>=3.2.0\n",
      "  Downloading importlib_resources-6.5.2-py3-none-any.whl (37 kB)\n",
      "Collecting fonttools>=4.22.0\n",
      "  Downloading fonttools-4.56.0-cp39-cp39-macosx_10_9_universal2.whl (2.8 MB)\n",
      "\u001b[2K     \u001b[90m━━━━━━━━━━━━━━━━━━━━━━━━━━━━━━━━━━━━━━━━\u001b[0m \u001b[32m2.8/2.8 MB\u001b[0m \u001b[31m1.7 MB/s\u001b[0m eta \u001b[36m0:00:00\u001b[0m00:01\u001b[0m00:01\u001b[0m\n",
      "\u001b[?25hCollecting pyparsing>=2.3.1\n",
      "  Downloading pyparsing-3.2.1-py3-none-any.whl (107 kB)\n",
      "\u001b[2K     \u001b[90m━━━━━━━━━━━━━━━━━━━━━━━━━━━━━━━━━━━━━━━\u001b[0m \u001b[32m107.7/107.7 KB\u001b[0m \u001b[31m1.0 MB/s\u001b[0m eta \u001b[36m0:00:00\u001b[0ma \u001b[36m0:00:01\u001b[0m\n",
      "\u001b[?25hCollecting kiwisolver>=1.3.1\n",
      "  Downloading kiwisolver-1.4.7-cp39-cp39-macosx_11_0_arm64.whl (64 kB)\n",
      "\u001b[2K     \u001b[90m━━━━━━━━━━━━━━━━━━━━━━━━━━━━━━━━━━━━━━━━\u001b[0m \u001b[32m64.3/64.3 KB\u001b[0m \u001b[31m1.3 MB/s\u001b[0m eta \u001b[36m0:00:00\u001b[0ma \u001b[36m0:00:01\u001b[0m\n",
      "\u001b[?25hCollecting cycler>=0.10\n",
      "  Using cached cycler-0.12.1-py3-none-any.whl (8.3 kB)\n",
      "Requirement already satisfied: numpy>=1.23 in /Users/Kris/.local/lib/python3.9/site-packages (from matplotlib) (2.0.2)\n",
      "Requirement already satisfied: python-dateutil>=2.7 in /Users/Kris/.pyenv/versions/3.9.16/lib/python3.9/site-packages (from matplotlib) (2.9.0.post0)\n",
      "Collecting contourpy>=1.0.1\n",
      "  Downloading contourpy-1.3.0-cp39-cp39-macosx_11_0_arm64.whl (249 kB)\n",
      "\u001b[2K     \u001b[90m━━━━━━━━━━━━━━━━━━━━━━━━━━━━━━━━━━━━━━━\u001b[0m \u001b[32m249.3/249.3 KB\u001b[0m \u001b[31m1.8 MB/s\u001b[0m eta \u001b[36m0:00:00\u001b[0ma \u001b[36m0:00:01\u001b[0m\n",
      "\u001b[?25hCollecting pillow>=8\n",
      "  Downloading pillow-11.1.0-cp39-cp39-macosx_11_0_arm64.whl (3.1 MB)\n",
      "\u001b[2K     \u001b[90m━━━━━━━━━━━━━━━━━━━━━━━━━━━━━━━━━━━━━━━━\u001b[0m \u001b[32m3.1/3.1 MB\u001b[0m \u001b[31m1.8 MB/s\u001b[0m eta \u001b[36m0:00:00\u001b[0m00:01\u001b[0m00:01\u001b[0m0m\n",
      "\u001b[?25hRequirement already satisfied: zipp>=3.1.0 in /Users/Kris/.pyenv/versions/3.9.16/lib/python3.9/site-packages (from importlib-resources>=3.2.0->matplotlib) (3.21.0)\n",
      "Requirement already satisfied: six>=1.5 in /Users/Kris/.pyenv/versions/3.9.16/lib/python3.9/site-packages (from python-dateutil>=2.7->matplotlib) (1.17.0)\n",
      "Installing collected packages: pyparsing, pillow, kiwisolver, importlib-resources, fonttools, cycler, contourpy, matplotlib\n",
      "\u001b[33m  WARNING: The scripts fonttools, pyftmerge, pyftsubset and ttx are installed in '/Users/Kris/.local/bin' which is not on PATH.\n",
      "  Consider adding this directory to PATH or, if you prefer to suppress this warning, use --no-warn-script-location.\n",
      "  NOTE: The current PATH contains path(s) starting with `~`, which may not be expanded by all applications.\u001b[0m\u001b[33m\n",
      "\u001b[0mSuccessfully installed contourpy-1.3.0 cycler-0.12.1 fonttools-4.56.0 importlib-resources-6.5.2 kiwisolver-1.4.7 matplotlib-3.9.4 pillow-11.1.0 pyparsing-3.2.1\n",
      "\u001b[33mWARNING: You are using pip version 22.0.4; however, version 25.0.1 is available.\n",
      "You should consider upgrading via the '/Users/Kris/.pyenv/versions/3.9.16/bin/python3.9 -m pip install --upgrade pip' command.\u001b[0m\u001b[33m\n",
      "\u001b[0m"
     ]
    }
   ],
   "source": [
    "!pip install --user matplotlib\n",
    "#Windows python -m pip install --user matplotlib*"
   ]
  },
  {
   "cell_type": "markdown",
   "id": "a7bbd065",
   "metadata": {},
   "source": [
    "    after installing we need to import matplotlib"
   ]
  },
  {
   "cell_type": "code",
   "execution_count": 3,
   "id": "bd853e90",
   "metadata": {},
   "outputs": [],
   "source": [
    "import matplotlib"
   ]
  },
  {
   "cell_type": "markdown",
   "id": "38676755",
   "metadata": {},
   "source": [
    "There is so much matplotlib can do for us I will hit on a few and let you dig into all of the wonderfull world of matplotlib\n",
    "\n",
    "here is the getting started gide:\n",
    "https://matplotlib.org/stable/users/getting_started/"
   ]
  },
  {
   "cell_type": "code",
   "execution_count": 5,
   "id": "8ca5a77a",
   "metadata": {},
   "outputs": [
    {
     "name": "stderr",
     "output_type": "stream",
     "text": [
      "Matplotlib is building the font cache; this may take a moment.\n"
     ]
    },
    {
     "data": {
      "text/plain": [
       "[<matplotlib.lines.Line2D at 0x10dd4e310>]"
      ]
     },
     "execution_count": 5,
     "metadata": {},
     "output_type": "execute_result"
    },
    {
     "data": {
      "image/png": "[encoded data removed]",
      "text/plain": [
       "<Figure size 640x480 with 1 Axes>"
      ]
     },
     "metadata": {},
     "output_type": "display_data"
    }
   ],
   "source": [
    "import matplotlib.pyplot as plt\n",
    "\n",
    "squares = [i*i for i in range(1,6)] # set up squares from 1 to 6\n",
    "plt.plot([1,2,3,4,5], squares)\n"
   ]
  },
  {
   "cell_type": "markdown",
   "id": "2425f079",
   "metadata": {},
   "source": [
    "    matplotlib has a lot of features to change the look of your plot.\n",
    "Note: there are many other ploting libraries. You can choose anyone that you like. \n",
    "\n",
    "Here are 5 of the top ones.\n",
    "\n",
    "- Matplotlib\n",
    "- Seaborn\n",
    "- Plotly\n",
    "- Bokeh\n",
    "- Altair\n",
    "- Folium"
   ]
  },
  {
   "cell_type": "markdown",
   "id": "3c8e6969",
   "metadata": {},
   "source": [
    "### examples of changing your graphs \n",
    "there are so many items to change please see the following:\n",
    "\n",
    "https://matplotlib.org/stable/users/explain/quick_start.html#parts-of-a-figure\n"
   ]
  },
  {
   "cell_type": "code",
   "execution_count": 6,
   "id": "611fafd8",
   "metadata": {},
   "outputs": [
    {
     "data": {
      "image/png": "[encoded data removed]",
      "text/plain": [
       "<Figure size 640x480 with 1 Axes>"
      ]
     },
     "metadata": {},
     "output_type": "display_data"
    }
   ],
   "source": [
    "plt.plot( squares, linewidth=1, color='red')\n",
    "\n",
    "plt.title(\"WOW Prity Graph\", fontsize=24)\n",
    "plt.xlabel(\"Value\", fontsize=14, color='pink')\n",
    "plt.ylabel(\"Square of Value\", fontsize=14, color='orange')\n",
    "plt.tick_params(axis='both', labelsize=7, color='green' ) # Set size of tick labels."
   ]
  },
  {
   "cell_type": "markdown",
   "id": "51a4384d",
   "metadata": {},
   "source": [
    "Notice that the indices start at zero "
   ]
  },
  {
   "cell_type": "code",
   "execution_count": 7,
   "id": "85a6b4d8",
   "metadata": {},
   "outputs": [
    {
     "data": {
      "image/png": "[encoded data removed]",
      "text/plain": [
       "<Figure size 640x480 with 1 Axes>"
      ]
     },
     "metadata": {},
     "output_type": "display_data"
    }
   ],
   "source": [
    "indices = [i for i in range(1,6)] # set up squares from 1 to 20\n",
    "\n",
    "plt.plot(indices, squares, linewidth=1, color='red')\n",
    "\n",
    "plt.title(\"WOW Prity Graph\", fontsize=24)\n",
    "plt.xlabel(\"Value\", fontsize=14, color='pink')\n",
    "plt.ylabel(\"Square of Value\", fontsize=14, color='orange')\n",
    "plt.tick_params(axis='both', labelsize=7, color='green' ) # Set size of tick labels."
   ]
  },
  {
   "cell_type": "markdown",
   "id": "37b44735",
   "metadata": {},
   "source": [
    "### Scater Plot"
   ]
  },
  {
   "cell_type": "code",
   "execution_count": null,
   "id": "3337361d",
   "metadata": {},
   "outputs": [
    {
     "data": {
      "image/png": "[encoded data removed]",
      "text/plain": [
       "<Figure size 640x480 with 1 Axes>"
      ]
     },
     "metadata": {},
     "output_type": "display_data"
    }
   ],
   "source": [
    "#indices = [i for i in range(1,20)] # set up squares from 1 to 20\n",
    "#squares = [i*i for i in range(1,20)] # set up squares from 1 to 20\n",
    "plt.scatter(indices, squares)\n",
    "\n",
    "plt.title(\"WOW Prity Graph\", fontsize=24)\n",
    "plt.xlabel(\"Value\", fontsize=14, color='pink')\n",
    "plt.ylabel(\"Square of Value\", fontsize=14, color='orange')\n",
    "plt.tick_params(axis='both', labelsize=7, color='green' ) # Set size of tick labels."
   ]
  },
  {
   "cell_type": "markdown",
   "id": "5d0eb417",
   "metadata": {},
   "source": [
    "### Saving"
   ]
  },
  {
   "cell_type": "code",
   "execution_count": null,
   "id": "c0e79801",
   "metadata": {},
   "outputs": [],
   "source": [
    "plt.savefig('delete_me.png')"
   ]
  },
  {
   "cell_type": "markdown",
   "id": "cc4df9e4",
   "metadata": {},
   "source": [
    "### Histograms"
   ]
  },
  {
   "cell_type": "code",
   "execution_count": 9,
   "id": "de0c5199",
   "metadata": {},
   "outputs": [
    {
     "data": {
      "image/png": "[encoded data removed]",
      "text/plain": [
       "<Figure size 640x480 with 1 Axes>"
      ]
     },
     "metadata": {},
     "output_type": "display_data"
    }
   ],
   "source": [
    "x = [1, 2, 2, 3, 3, 4]\n",
    "plt.hist(x)\n",
    "plt.show()"
   ]
  },
  {
   "cell_type": "markdown",
   "id": "d1be4ea6",
   "metadata": {},
   "source": [
    "## Numpy - the hero you never new you needed"
   ]
  },
  {
   "cell_type": "code",
   "execution_count": 23,
   "id": "9ce64a00",
   "metadata": {},
   "outputs": [
    {
     "ename": "TypeError",
     "evalue": "unsupported operand type(s) for /: 'int' and 'list'",
     "output_type": "error",
     "traceback": [
      "\u001b[0;31m---------------------------------------------------------------------------\u001b[0m",
      "\u001b[0;31mTypeError\u001b[0m                                 Traceback (most recent call last)",
      "Cell \u001b[0;32mIn[23], line 1\u001b[0m\n\u001b[0;32m----> 1\u001b[0m \u001b[38;5;241;43m1\u001b[39;49m\u001b[38;5;241;43m/\u001b[39;49m\u001b[43m[\u001b[49m\u001b[38;5;241;43m1\u001b[39;49m\u001b[43m,\u001b[49m\u001b[43m \u001b[49m\u001b[38;5;241;43m2\u001b[39;49m\u001b[43m,\u001b[49m\u001b[43m \u001b[49m\u001b[38;5;241;43m3\u001b[39;49m\u001b[43m,\u001b[49m\u001b[43m \u001b[49m\u001b[38;5;241;43m4\u001b[39;49m\u001b[43m,\u001b[49m\u001b[43m \u001b[49m\u001b[38;5;241;43m5\u001b[39;49m\u001b[43m,\u001b[49m\u001b[43m \u001b[49m\u001b[38;5;241;43m6\u001b[39;49m\u001b[43m,\u001b[49m\u001b[43m \u001b[49m\u001b[38;5;241;43m7\u001b[39;49m\u001b[43m]\u001b[49m\n",
      "\u001b[0;31mTypeError\u001b[0m: unsupported operand type(s) for /: 'int' and 'list'"
     ]
    }
   ],
   "source": [
    "1/[1, 2, 3, 4, 5, 6, 7]"
   ]
  },
  {
   "cell_type": "markdown",
   "id": "2fe56488",
   "metadata": {},
   "source": [
    "Like matplotlib We need to install a the numpy library to do that run the following command. "
   ]
  },
  {
   "cell_type": "code",
   "execution_count": 8,
   "id": "eccc7a48",
   "metadata": {},
   "outputs": [
    {
     "name": "stdout",
     "output_type": "stream",
     "text": [
      "Collecting numpy\n",
      "  Downloading numpy-2.0.2-cp39-cp39-macosx_14_0_arm64.whl (5.3 MB)\n",
      "\u001b[2K     \u001b[90m━━━━━━━━━━━━━━━━━━━━━━━━━━━━━━━━━━━━━━━━\u001b[0m \u001b[32m5.3/5.3 MB\u001b[0m \u001b[31m41.3 MB/s\u001b[0m eta \u001b[36m0:00:00\u001b[0m00:01\u001b[0m00:01\u001b[0m\n",
      "\u001b[?25hInstalling collected packages: numpy\n",
      "\u001b[33m  WARNING: The scripts f2py and numpy-config are installed in '/Users/Kris/.local/bin' which is not on PATH.\n",
      "  Consider adding this directory to PATH or, if you prefer to suppress this warning, use --no-warn-script-location.\n",
      "  NOTE: The current PATH contains path(s) starting with `~`, which may not be expanded by all applications.\u001b[0m\u001b[33m\n",
      "\u001b[0mSuccessfully installed numpy-2.0.2\n",
      "\u001b[33mWARNING: You are using pip version 22.0.4; however, version 25.0.1 is available.\n",
      "You should consider upgrading via the '/Users/Kris/.pyenv/versions/3.9.16/bin/python3.9 -m pip install --upgrade pip' command.\u001b[0m\u001b[33m\n",
      "\u001b[0m"
     ]
    }
   ],
   "source": [
    "!pip install --user numpy\n",
    "#Windows python -m pip install --user numpy*"
   ]
  },
  {
   "cell_type": "code",
   "execution_count": 9,
   "id": "9045b46b",
   "metadata": {},
   "outputs": [],
   "source": [
    "import numpy as np"
   ]
  },
  {
   "cell_type": "markdown",
   "id": "05dfa2b7",
   "metadata": {},
   "source": [
    "    we will import num py as np and create an array this is like a list, but way better because we can perform math on it"
   ]
  },
  {
   "cell_type": "code",
   "execution_count": 10,
   "id": "9cdb5844",
   "metadata": {},
   "outputs": [],
   "source": [
    "npList = np.array([1, 2, 3, 4, 5, 6])"
   ]
  },
  {
   "cell_type": "code",
   "execution_count": 11,
   "id": "a090288a",
   "metadata": {},
   "outputs": [
    {
     "name": "stdout",
     "output_type": "stream",
     "text": [
      "[1 2 3 4 5 6]\n",
      "<class 'numpy.ndarray'>\n"
     ]
    }
   ],
   "source": [
    "print(npList)\n",
    "print(type(npList))"
   ]
  },
  {
   "cell_type": "code",
   "execution_count": 12,
   "id": "3443a303",
   "metadata": {},
   "outputs": [
    {
     "name": "stdout",
     "output_type": "stream",
     "text": [
      "[1.         0.5        0.33333333 0.25       0.2        0.16666667]\n"
     ]
    }
   ],
   "source": [
    "print(1/npList)"
   ]
  },
  {
   "cell_type": "code",
   "execution_count": 28,
   "id": "d58f6a2b",
   "metadata": {},
   "outputs": [
    {
     "data": {
      "text/plain": [
       "1"
      ]
     },
     "execution_count": 28,
     "metadata": {},
     "output_type": "execute_result"
    }
   ],
   "source": [
    "npList.ndim # the dementions of the list"
   ]
  },
  {
   "cell_type": "code",
   "execution_count": 29,
   "id": "25d3a0b3",
   "metadata": {},
   "outputs": [
    {
     "data": {
      "text/plain": [
       "(6,)"
      ]
     },
     "execution_count": 29,
     "metadata": {},
     "output_type": "execute_result"
    }
   ],
   "source": [
    "npList.shape # the number of elements"
   ]
  },
  {
   "cell_type": "code",
   "execution_count": 30,
   "id": "efa89434",
   "metadata": {
    "scrolled": true
   },
   "outputs": [
    {
     "data": {
      "text/plain": [
       "array([[1, 2, 3],\n",
       "       [4, 5, 6]])"
      ]
     },
     "execution_count": 30,
     "metadata": {},
     "output_type": "execute_result"
    }
   ],
   "source": [
    "npList.reshape((2,3))"
   ]
  },
  {
   "cell_type": "code",
   "execution_count": 31,
   "id": "801685cb-893f-4a92-b5b0-a0f9ab304c72",
   "metadata": {},
   "outputs": [
    {
     "data": {
      "text/plain": [
       "array([1, 2, 3, 4, 5, 6])"
      ]
     },
     "execution_count": 31,
     "metadata": {},
     "output_type": "execute_result"
    }
   ],
   "source": [
    "npList"
   ]
  },
  {
   "cell_type": "code",
   "execution_count": 32,
   "id": "6a0e65fb",
   "metadata": {},
   "outputs": [],
   "source": [
    "tList = npList.reshape((6,1))"
   ]
  },
  {
   "cell_type": "markdown",
   "id": "45635c83",
   "metadata": {},
   "source": [
    "When using reshape NumPy stores the 2 lists as a copy so changing one will change the other. "
   ]
  },
  {
   "cell_type": "code",
   "execution_count": 36,
   "id": "d5d8a5bf",
   "metadata": {},
   "outputs": [
    {
     "name": "stdout",
     "output_type": "stream",
     "text": [
      "[[ 1]\n",
      " [70]\n",
      " [70]\n",
      " [ 4]\n",
      " [ 5]\n",
      " [ 6]]\n",
      "[ 1 70 70  4  5  6]\n"
     ]
    }
   ],
   "source": [
    "tList[2][0]=70\n",
    "print(tList)\n",
    "print(npList)"
   ]
  },
  {
   "cell_type": "code",
   "execution_count": 34,
   "id": "4f8bcd05",
   "metadata": {},
   "outputs": [],
   "source": [
    "two_d = npList*tList"
   ]
  },
  {
   "cell_type": "code",
   "execution_count": 37,
   "id": "fd0a72f4",
   "metadata": {},
   "outputs": [
    {
     "data": {
      "text/plain": [
       "array([[   1,   70,    3,    4,    5,    6],\n",
       "       [  70, 4900,  210,  280,  350,  420],\n",
       "       [   3,  210,    9,   12,   15,   18],\n",
       "       [   4,  280,   12,   16,   20,   24],\n",
       "       [   5,  350,   15,   20,   25,   30],\n",
       "       [   6,  420,   18,   24,   30,   36]])"
      ]
     },
     "execution_count": 37,
     "metadata": {},
     "output_type": "execute_result"
    }
   ],
   "source": [
    "two_d"
   ]
  },
  {
   "cell_type": "code",
   "execution_count": 40,
   "id": "f252cbfb",
   "metadata": {},
   "outputs": [
    {
     "data": {
      "text/plain": [
       "array([[   1,   70,    3,    4,    5,    6],\n",
       "       [  70, 4900,  210,  280,  350,  420],\n",
       "       [   3,  210,   90,   12,   15,   18],\n",
       "       [   4,  280,   12,   16,   20,   24],\n",
       "       [   5,  350,   15,   20,   25,   30],\n",
       "       [   6,  420,   18,   24,   30,   36]])"
      ]
     },
     "execution_count": 40,
     "metadata": {},
     "output_type": "execute_result"
    }
   ],
   "source": [
    "two_d[2][2] = 90\n",
    "two_d"
   ]
  },
  {
   "cell_type": "markdown",
   "id": "40debac2",
   "metadata": {},
   "source": [
    "# Indexing"
   ]
  },
  {
   "cell_type": "code",
   "execution_count": 43,
   "id": "02b11c0d",
   "metadata": {},
   "outputs": [
    {
     "name": "stdout",
     "output_type": "stream",
     "text": [
      "[4, 5, 6]\n"
     ]
    }
   ],
   "source": [
    "#refresh\n",
    "aList = [1, 2, 3, 4, 5, 6]\n",
    "print(aList[3:])\n",
    "#aList=<2"
   ]
  },
  {
   "cell_type": "code",
   "execution_count": 42,
   "id": "fe1ab050",
   "metadata": {},
   "outputs": [
    {
     "data": {
      "text/plain": [
       "array([  4, 280,  12,  16,  20,  24])"
      ]
     },
     "execution_count": 42,
     "metadata": {},
     "output_type": "execute_result"
    }
   ],
   "source": [
    "two_d[3]"
   ]
  },
  {
   "cell_type": "code",
   "execution_count": 44,
   "id": "1026f7e3",
   "metadata": {},
   "outputs": [
    {
     "data": {
      "text/plain": [
       "90"
      ]
     },
     "execution_count": 44,
     "metadata": {},
     "output_type": "execute_result"
    }
   ],
   "source": [
    "two_d[2,2]"
   ]
  },
  {
   "cell_type": "code",
   "execution_count": 45,
   "id": "1947cab2",
   "metadata": {},
   "outputs": [
    {
     "data": {
      "text/plain": [
       "array([90, 20, 36])"
      ]
     },
     "execution_count": 45,
     "metadata": {},
     "output_type": "execute_result"
    }
   ],
   "source": [
    "two_d[[2,4,5],[2,3,5]]"
   ]
  },
  {
   "cell_type": "code",
   "execution_count": 46,
   "id": "12e34ef9",
   "metadata": {},
   "outputs": [
    {
     "data": {
      "text/plain": [
       "array([[ True, False,  True,  True,  True, False],\n",
       "       [False, False, False, False, False, False],\n",
       "       [ True, False, False, False, False, False],\n",
       "       [ True, False, False, False, False, False],\n",
       "       [ True, False, False, False, False, False],\n",
       "       [False, False, False, False, False, False]])"
      ]
     },
     "execution_count": 46,
     "metadata": {},
     "output_type": "execute_result"
    }
   ],
   "source": [
    "two_d<6"
   ]
  },
  {
   "cell_type": "code",
   "execution_count": 47,
   "id": "61c4b63f",
   "metadata": {},
   "outputs": [
    {
     "data": {
      "text/plain": [
       "array([1, 3, 4, 5, 3, 4, 5])"
      ]
     },
     "execution_count": 47,
     "metadata": {},
     "output_type": "execute_result"
    }
   ],
   "source": [
    "two_d[two_d<6]"
   ]
  },
  {
   "cell_type": "markdown",
   "id": "1f8968af",
   "metadata": {},
   "source": [
    "## nan and inf"
   ]
  },
  {
   "cell_type": "code",
   "execution_count": null,
   "id": "c499cb4a",
   "metadata": {},
   "outputs": [
    {
     "name": "stdout",
     "output_type": "stream",
     "text": [
      "[[nan inf]\n",
      " [ 0.  1.]]\n"
     ]
    },
    {
     "name": "stderr",
     "output_type": "stream",
     "text": [
      "/var/folders/6c/phtqtltd4wn1pydbmzp55knr0000gp/T/ipykernel_1738/1430675000.py:1: RuntimeWarning: divide by zero encountered in divide\n",
      "  inf_list = np.array([0, 1])/np.array([[0],[1]])\n",
      "/var/folders/6c/phtqtltd4wn1pydbmzp55knr0000gp/T/ipykernel_1738/1430675000.py:1: RuntimeWarning: invalid value encountered in divide\n",
      "  inf_list = np.array([0, 1])/np.array([[0],[1]])\n"
     ]
    }
   ],
   "source": [
    "inf_list = np.array([0, 1])/np.array([[0],[1]])\n",
    "print(inf_list)"
   ]
  },
  {
   "cell_type": "code",
   "execution_count": 49,
   "id": "4ccb151e",
   "metadata": {},
   "outputs": [
    {
     "name": "stdout",
     "output_type": "stream",
     "text": [
      "[[ True False]\n",
      " [False False]]\n"
     ]
    },
    {
     "data": {
      "text/plain": [
       "array([inf,  0.,  1.])"
      ]
     },
     "execution_count": 49,
     "metadata": {},
     "output_type": "execute_result"
    }
   ],
   "source": [
    "print(np.isnan(inf_list))\n",
    "inf_list[~np.isnan(inf_list)]"
   ]
  },
  {
   "cell_type": "code",
   "execution_count": null,
   "id": "51b3057f",
   "metadata": {},
   "outputs": [],
   "source": [
    "np.mean(inf_list[~np.isnan(inf_list)])"
   ]
  },
  {
   "cell_type": "markdown",
   "id": "fd0ca5df",
   "metadata": {},
   "source": [
    "## How fast is NP?\n",
    "NP is an amazing tool and is fast at some tasks but a waist at others. so you need to understand when to use it and when not to. \n",
    "we will not dig to deep into the math but below are just some examples of the math you can do with NP"
   ]
  },
  {
   "cell_type": "code",
   "execution_count": null,
   "id": "729a269f",
   "metadata": {},
   "outputs": [
    {
     "name": "stdout",
     "output_type": "stream",
     "text": [
      "Normal Python: 0.359447 sec\n",
      "Mult NumPy: 0.356399 sec\n",
      "Dot NumPy: 0.006495 sec\n"
     ]
    }
   ],
   "source": [
    "# code provided by NumPy Beginner's Guide - Second Edition, Ivan Idri with minor changes\n",
    "import timeit\n",
    "normal_py_sec = timeit.timeit( #use Python range to calculate\n",
    "    'sum(x*x for x in range(1000))',\n",
    "    number=10000)\n",
    "\n",
    "mult_np_sec = timeit.timeit( #use Python multiplication to process np\n",
    "    'sum(x*x)',\n",
    "    setup=\"import numpy as np; x=np.arange(1000)\",\n",
    "    number=10000)\n",
    "\n",
    "dot_np_sec = timeit.timeit( #use np dot to process \n",
    "    'na.dot(x)',\n",
    "    setup=\"import numpy as x; x=np.arange(1000)\",\n",
    "    number=10000)\n",
    "\n",
    "print(\"Normal Python: %f sec\" % normal_py_sec)\n",
    "print(\"Mult NumPy: %f sec\" % mult_np_sec)\n",
    "print(\"Dot NumPy: %f sec\" % dot_np_sec)"
   ]
  },
  {
   "cell_type": "code",
   "execution_count": null,
   "id": "048f8c4a-b1cf-4443-9f4c-84f139f7a216",
   "metadata": {},
   "outputs": [
    {
     "data": {
      "text/plain": [
       "332833500"
      ]
     },
     "execution_count": 53,
     "metadata": {},
     "output_type": "execute_result"
    }
   ],
   "source": [
    "sum(na*na)"
   ]
  },
  {
   "cell_type": "code",
   "execution_count": 52,
   "id": "02828486",
   "metadata": {},
   "outputs": [
    {
     "data": {
      "text/plain": [
       "332833500"
      ]
     },
     "execution_count": 52,
     "metadata": {},
     "output_type": "execute_result"
    }
   ],
   "source": [
    "na=np.arange(1000)\n",
    "na.dot(na)"
   ]
  },
  {
   "cell_type": "markdown",
   "id": "5a556491",
   "metadata": {},
   "source": [
    "# Regular Expressions\n",
    " A Regular Expression is a sequence of characters that defines a search pattern. It is used to match a specific pattern of text in a larger body of text\n",
    " \n",
    " \n",
    " “Knowing Regular Expression can mean the difference between solving a problem in 3 steps and solving it in 3,000 steps. When you’re a nerd, you forget that the problems you solve with a couple keystrokes can take other people days of tedious, error-prone work to slog through.” - Cory Doctorow"
   ]
  },
  {
   "cell_type": "code",
   "execution_count": 3,
   "id": "d25468ea",
   "metadata": {},
   "outputs": [],
   "source": [
    "import re"
   ]
  },
  {
   "cell_type": "markdown",
   "id": "628ea8b9",
   "metadata": {},
   "source": [
    "use the re.compile() method, which takes a string as its argument. This string represents the pattern you want to match in a text.\n",
    "\n",
    "```python\n",
    "re.compile()\n",
    "\n",
    "```"
   ]
  },
  {
   "cell_type": "code",
   "execution_count": 4,
   "id": "1b645fa6",
   "metadata": {},
   "outputs": [],
   "source": [
    "phoneNum = re.compile(r'\\d\\d\\d-\\d\\d\\d-\\d\\d\\d\\d')"
   ]
  },
  {
   "cell_type": "code",
   "execution_count": 5,
   "id": "9395257d",
   "metadata": {},
   "outputs": [
    {
     "data": {
      "text/plain": [
       "re.Pattern"
      ]
     },
     "execution_count": 5,
     "metadata": {},
     "output_type": "execute_result"
    }
   ],
   "source": [
    "type(phoneNum)"
   ]
  },
  {
   "cell_type": "code",
   "execution_count": 6,
   "id": "7d463a9b",
   "metadata": {},
   "outputs": [],
   "source": [
    "foundNum = phoneNum.search('bla bla bla 123-123-1234 133-133-1234 bla bla bla ') #4"
   ]
  },
  {
   "cell_type": "markdown",
   "id": "9ae3e22d",
   "metadata": {},
   "source": [
    "The search() method will return None if the regex pattern is not found in the string"
   ]
  },
  {
   "cell_type": "code",
   "execution_count": 7,
   "id": "83620aa5",
   "metadata": {},
   "outputs": [
    {
     "name": "stdout",
     "output_type": "stream",
     "text": [
      "<re.Match object; span=(12, 24), match='123-123-1234'>\n",
      "123-123-1234\n"
     ]
    }
   ],
   "source": [
    "print(foundNum)\n",
    "print(foundNum.group())"
   ]
  },
  {
   "cell_type": "markdown",
   "id": "3d864509",
   "metadata": {},
   "source": [
    "the 'match' objects have a group() method that will return the actual matched text from the searched string."
   ]
  },
  {
   "cell_type": "markdown",
   "id": "0afd801a",
   "metadata": {},
   "source": [
    "- Import the regex module\n",
    "- Create a Regex object with the re.compile() function. \n",
    "    - (Remember to use a raw string.)\n",
    "- Pass the string you want to search into the Regex object’s search() method. \n",
    "    - This returns a Match object.\n",
    "- group() method \n",
    "    - returns a string of the actual matched text."
   ]
  },
  {
   "cell_type": "markdown",
   "id": "5e27fbb5",
   "metadata": {},
   "source": [
    "# Grouping"
   ]
  },
  {
   "cell_type": "code",
   "execution_count": 8,
   "id": "7b1ea507",
   "metadata": {},
   "outputs": [],
   "source": [
    "phoneNum = re.compile(r'(\\d\\d\\d)-(\\d\\d\\d)-(\\d\\d\\d\\d)')\n",
    "foundNum = phoneNum.search('bla bla bla 123-456-7890 098-765-5434 bla bla bla ') #4"
   ]
  },
  {
   "cell_type": "code",
   "execution_count": 9,
   "id": "31c836f0",
   "metadata": {},
   "outputs": [
    {
     "name": "stdout",
     "output_type": "stream",
     "text": [
      "group0 123-456-7890\n",
      "group1 123\n",
      "group2 456\n",
      "group3 7890\n",
      "123-456-7890\n"
     ]
    },
    {
     "data": {
      "text/plain": [
       "('123', '456', '7890')"
      ]
     },
     "execution_count": 9,
     "metadata": {},
     "output_type": "execute_result"
    }
   ],
   "source": [
    "for i in range(len(foundNum.groups())+1):\n",
    "    print('group'+ str(i)+' '+foundNum.group(i)) #returns each match object \n",
    "print(foundNum.group()) # this returns the entire matched text\n",
    "foundNum.groups()# this returns all the groups of matched text"
   ]
  },
  {
   "cell_type": "code",
   "execution_count": 10,
   "id": "cf5a7fa5",
   "metadata": {},
   "outputs": [
    {
     "name": "stdout",
     "output_type": "stream",
     "text": [
      "foundNum is a: <class 'tuple'>\n",
      "(123)\n",
      "<class 'str'>\n",
      "456-7890\n"
     ]
    }
   ],
   "source": [
    "phoneNum = re.compile(r'(\\(\\d\\d\\d\\))-(\\d\\d\\d-\\d\\d\\d\\d)')\n",
    "foundNum = phoneNum.search('bla bla bla (123)-456-7890 bla bla bla ') #4\n",
    "\n",
    "print('foundNum is a: '+ str(type(foundNum.groups())))\n",
    "\n",
    "areaCode, mainNumber = foundNum.groups()\n",
    "print(areaCode)\n",
    "print(type(areaCode))\n",
    "print(mainNumber)"
   ]
  },
  {
   "cell_type": "markdown",
   "id": "31a9fc84",
   "metadata": {},
   "source": [
    "## Pipe\n",
    "    | character is called a pipe <shift> '\\'\n",
    "\n",
    "NOTE: The | for RE works differently from linux | in linix runs one input into another with RE it is used as an 'OR'\n",
    "\n",
    "happy or sad => happy|sad\n",
    "\n",
    "When both happy and sad occur in the searched string, the first occurrence of matching text will be returned as the Match object."
   ]
  },
  {
   "cell_type": "code",
   "execution_count": 11,
   "id": "0bb7e8d9",
   "metadata": {},
   "outputs": [
    {
     "name": "stdout",
     "output_type": "stream",
     "text": [
      "Batman\n"
     ]
    }
   ],
   "source": [
    "import json\n",
    "with open('superheros.json') as f:\n",
    "    superheros = json.load(f)\n",
    "findWord = re.compile(r'DC Comics|Batman')\n",
    "foundWord = findWord.search(json.dumps(superheros)) #4\n",
    "print(foundWord.group())"
   ]
  },
  {
   "cell_type": "code",
   "execution_count": 12,
   "id": "fafa23c1",
   "metadata": {},
   "outputs": [
    {
     "name": "stdout",
     "output_type": "stream",
     "text": [
      "batwoman\n",
      "batman\n"
     ]
    }
   ],
   "source": [
    "bats = re.compile(r'bat(wo)?man')\n",
    "foundWord = bats.search('the adventures of batwoman')\n",
    "print(foundWord.group())\n",
    "foundWord = bats.search('the adventures of batman')\n",
    "print(foundWord.group())"
   ]
  },
  {
   "cell_type": "markdown",
   "id": "904bcdf1",
   "metadata": {},
   "source": [
    "# Other options\n",
    "\n",
    "    The *  means \"match zero or more\"\n",
    "    The +  means \"match one or more\"\n",
    "    The {} means \"repeat a specific number of times\" \n",
    "    la{3} = (la)(la)(la) \n",
    "    la{3,5} = (la)(la)(la)|(la)(la)(la)(la)|(la)(la)(la)(la)(la)\n",
    "    \n",
    "    \\d Any numeric digit from 0 to 9.\n",
    "    \\D Any character that is not a numeric digit from 0 to 9.\n",
    "    \\w Any letter, numeric digit, or the underscore character.\n",
    "    \\W Any character that is not a letter, numeric digit, or the underscore character.\n",
    "    \\s Any space, tab, or newline character.\n",
    "    \\S Any character that is not a space, tab, or newline.\n",
    "    [] match any of the characters in brackets\n",
    "    [^] do not match any of the characters in brackets\n",
    "    \n",
    "    $ Match must occur at the end of the searched text\n",
    "    ^ Match must occur at the beginning of the searched text\n",
    "    . WildCard and will match any character except newline\n",
    "    .* Match everything \n",
    "    "
   ]
  },
  {
   "cell_type": "code",
   "execution_count": null,
   "id": "8d68cdcd",
   "metadata": {},
   "outputs": [],
   "source": [
    "phoneNumRegex = re.compile(r'\\d\\d\\d-\\d\\d\\d-\\d\\d\\d\\d') # has no groups\n",
    "phoneNumRegex.findall('Cell: 415-555-9999 Work: 212-555-0000')\n",
    "\n"
   ]
  },
  {
   "cell_type": "code",
   "execution_count": 19,
   "id": "803fa517",
   "metadata": {},
   "outputs": [
    {
     "name": "stdout",
     "output_type": "stream",
     "text": [
      "['Batman']\n"
     ]
    }
   ],
   "source": [
    "findWord = re.compile(r'Batman')#(\\w{16})')\n",
    "foundWord = findWord.findall(json.dumps(superheros))\n",
    "print(foundWord)\n",
    "#findWord = re.compile(r'[aeiou]')\n",
    "#foundWord = findWord.findall(json.dumps(superheros))\n",
    "#print(foundWord)"
   ]
  },
  {
   "cell_type": "code",
   "execution_count": 20,
   "id": "52636320",
   "metadata": {},
   "outputs": [
    {
     "name": "stdout",
     "output_type": "stream",
     "text": [
      "[]\n"
     ]
    }
   ],
   "source": [
    "findWord = re.compile(r'man^123') #\n",
    "foundWord = findWord.findall('man123 batman is an amazing man')# man\n",
    "print(foundWord)"
   ]
  },
  {
   "cell_type": "code",
   "execution_count": 21,
   "id": "6dfd8602",
   "metadata": {},
   "outputs": [
    {
     "name": "stdout",
     "output_type": "stream",
     "text": [
      "['Ironman', 'Batman', 'Superman', 'Superman']\n"
     ]
    }
   ],
   "source": [
    "findWord = re.compile(r'[\\w.*?]+[mM]+an')#\n",
    "foundWord = findWord.findall(\"Ironman and Batman fought Superman. Superman beat the bat. Man that was a good fight\")# man\n",
    "print(foundWord)"
   ]
  },
  {
   "cell_type": "markdown",
   "id": "0744436a",
   "metadata": {},
   "source": [
    "There are many more items in regular Expression. "
   ]
  }
 ],
 "metadata": {
  "kernelspec": {
   "display_name": "3.9.16",
   "language": "python",
   "name": "python3"
  },
  "language_info": {
   "codemirror_mode": {
    "name": "ipython",
    "version": 3
   },
   "file_extension": ".py",
   "mimetype": "text/x-python",
   "name": "python",
   "nbconvert_exporter": "python",
   "pygments_lexer": "ipython3",
   "version": "3.9.16"
  }
 },
 "nbformat": 4,
 "nbformat_minor": 5
}
